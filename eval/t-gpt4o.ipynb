{
 "cells": [
  {
   "cell_type": "code",
   "execution_count": 1,
   "metadata": {},
   "outputs": [],
   "source": [
    "import requests\n",
    "from langchain_openai import ChatOpenAI\n",
    "import os\n",
    "import json\n",
    "import re\n",
    "from collections import defaultdict\n",
    "\n",
    "os.environ[\"OPENAI_API_KEY\"] = \"sk-j5nZtClYNnChRcfn85757c9bC69140BfBc9f3aF5A37f046a\"\n",
    "os.environ[\"OPENAI_API_BASE\"] = \"https://api.mixrai.com/v1\"\n",
    "llm = ChatOpenAI(model=\"gpt-4o\")"
   ]
  },
  {
   "cell_type": "code",
   "execution_count": 2,
   "metadata": {},
   "outputs": [],
   "source": [
    "url = \"https://raw.githubusercontent.com/dwu5/NLP_Proj/refs/heads/main/data/2025%E5%9B%BD%E8%80%83%E8%A1%8C%E6%B5%8B_94%E9%A2%98.json\"\n",
    "response = requests.get(url)\n",
    "data = response.json()\n",
    "questions = data[\"questions\"]\n",
    "skip_ids = set(map(str, data[\"skip\"]))"
   ]
  },
  {
   "cell_type": "code",
   "execution_count": 3,
   "metadata": {},
   "outputs": [
    {
     "name": "stdout",
     "output_type": "stream",
     "text": [
      "2025年国家公务员录用考试《行测》题（副省级网友回忆版）\n",
      "\n",
      "各题型题数统计 (剔除skip题):\n",
      "政治理论: 20题\n",
      "常识判断: 15题\n",
      "表达理解: 20题\n",
      "数量关系: 14题\n",
      "判断推理: 24题\n",
      "\n",
      "总题数 (剔除skip题): 93\n",
      "跳过的题数: 42\n"
     ]
    }
   ],
   "source": [
    "file_name = data[\"title\"]\n",
    "print(file_name)\n",
    "\n",
    "type_counts = defaultdict(int)\n",
    "for question in questions:\n",
    "    if question[\"id\"] not in skip_ids:\n",
    "        type_counts[question[\"type\"]] += 1\n",
    "\n",
    "print(\"\\n各题型题数统计 (剔除skip题):\")\n",
    "for type_name, count in type_counts.items():\n",
    "    print(f\"{type_name}: {count}题\")\n",
    "print(f\"\\n总题数 (剔除skip题): {sum(type_counts.values())}\")\n",
    "print(f\"跳过的题数: {len(skip_ids)}\")"
   ]
  },
  {
   "cell_type": "code",
   "execution_count": 4,
   "metadata": {},
   "outputs": [],
   "source": [
    "def predict_answer(question_data):\n",
    "    # 构建完整题目文本（包含选项）\n",
    "    question_text = question_data[\"question\"]\n",
    "    if question_data[\"options\"]:  # 有选项\n",
    "        options_text = \"\\n\".join([f\"{k}、{v}\" for k, v in question_data[\"options\"].items()])\n",
    "        full_question = f\"{question_text}\\n{options_text}\"\n",
    "    else:\n",
    "        full_question = question_text  # 没有选项\n",
    "    \n",
    "    prompt = f\"\"\"\n",
    "    请根据题目内容选择最合适的答案。只需返回选项字母，不要包含其他任何内容！\n",
    "\n",
    "    题目：\n",
    "    {full_question}\n",
    "    \"\"\"\n",
    "    response = llm.invoke(prompt)\n",
    "    # 提取选项字母\n",
    "    pred_answer = response.content.strip()\n",
    "    match = re.search(r'([A-D]+)', pred_answer.upper())\n",
    "    if match:\n",
    "        return match.group(1)\n",
    "    return pred_answer"
   ]
  },
  {
   "cell_type": "code",
   "execution_count": 5,
   "metadata": {},
   "outputs": [
    {
     "name": "stdout",
     "output_type": "stream",
     "text": [
      "\n",
      "总体准确率(剔除skip题目): 78.49% (73/93)\n",
      "\n",
      "各题型准确率:\n",
      "政治理论: 90.00% (18/20)\n",
      "常识判断: 86.67% (13/15)\n",
      "表达理解: 90.00% (18/20)\n",
      "数量关系: 42.86% (6/14)\n",
      "判断推理: 75.00% (18/24)\n"
     ]
    }
   ],
   "source": [
    "results = []\n",
    "correct = 0\n",
    "total_processed = 0  # 实际处理的题目数（剔除skip题）\n",
    "\n",
    "# 各题型准确率统计\n",
    "type_stats = defaultdict(lambda: {'correct': 0, 'total': 0})\n",
    "\n",
    "for q in questions:\n",
    "    # 跳过skip列表中的题目\n",
    "    if q[\"id\"] in skip_ids or \"answer\" not in q:\n",
    "        continue \n",
    "    \n",
    "    total_processed += 1\n",
    "    \n",
    "    try:\n",
    "        pred_answer = predict_answer(q)\n",
    "        true_answer = q[\"answer\"]\n",
    "        is_correct = pred_answer == true_answer\n",
    "        \n",
    "        # 更新总体统计\n",
    "        if is_correct:\n",
    "            correct += 1\n",
    "        \n",
    "        # 更新题型统计\n",
    "        question_type = q[\"type\"]\n",
    "        type_stats[question_type]['total'] += 1\n",
    "        if is_correct:\n",
    "            type_stats[question_type]['correct'] += 1\n",
    "        \n",
    "        # 记录结果\n",
    "        results.append({\n",
    "            \"id\": q[\"id\"],\n",
    "            \"type\": q[\"type\"],\n",
    "            \"question\": q[\"question\"],\n",
    "            \"options\": q[\"options\"],\n",
    "            \"true_answer\": true_answer,\n",
    "            \"pred_answer\": pred_answer,\n",
    "            \"is_correct\": is_correct\n",
    "        })\n",
    "            \n",
    "    except Exception as e:\n",
    "        print(f\"Error processing question {q['id']}: {e}\")\n",
    "        # 出错记录\n",
    "        question_type = q[\"type\"]\n",
    "        type_stats[question_type]['total'] += 1\n",
    "        \n",
    "        results.append({\n",
    "            \"id\": q[\"id\"],\n",
    "            \"type\": q[\"type\"],\n",
    "            \"question\": q[\"question\"],\n",
    "            \"options\": q[\"options\"],\n",
    "            \"true_answer\": q.get(\"answer\", \"\"),\n",
    "            \"pred_answer\": \"ERROR\",\n",
    "            \"is_correct\": False,\n",
    "            \"error\": str(e)\n",
    "        })\n",
    "\n",
    "# 计算准确率（基于实际处理的题目）\n",
    "accuracy = correct / total_processed if total_processed > 0 else 0\n",
    "\n",
    "# 计算各题型准确率\n",
    "type_accuracies = {}\n",
    "for type_name, stats in type_stats.items():\n",
    "    type_total = stats['total']\n",
    "    type_correct = stats['correct']\n",
    "    type_accuracies[type_name] = {\n",
    "        'accuracy': type_correct / type_total if type_total > 0 else 0,\n",
    "        'correct': type_correct,\n",
    "        'total': type_total\n",
    "    }\n",
    "\n",
    "print(f\"\\n总体准确率(剔除skip题目): {accuracy:.2%} ({correct}/{total_processed})\")\n",
    "print(\"\\n各题型准确率:\")\n",
    "for type_name, acc in type_accuracies.items():\n",
    "    print(f\"{type_name}: {acc['accuracy']:.2%} ({acc['correct']}/{acc['total']})\")"
   ]
  },
  {
   "cell_type": "code",
   "execution_count": 6,
   "metadata": {},
   "outputs": [
    {
     "name": "stdout",
     "output_type": "stream",
     "text": [
      "预测结果已保存到 results/gpt-4o/2025年国家公务员录用考试《行测》题（副省级网友回忆版）.json\n"
     ]
    }
   ],
   "source": [
    "# 保存结果\n",
    "output_file = f\"results/gpt-4o/{file_name}.json\"\n",
    "# os.makedirs(\"results\", exist_ok=True)\n",
    "\n",
    "with open(output_file, \"w\", encoding=\"utf-8\") as f:\n",
    "    json.dump({\n",
    "        \"title\": data[\"title\"],\n",
    "        \"skip\": data[\"skip\"],\n",
    "        \"overall_accuracy\": accuracy,\n",
    "        \"total_processed_questions\": total_processed,\n",
    "        \"correct_answers\": correct,\n",
    "        \"skipped_questions\": len(skip_ids),\n",
    "        \"type_accuracies\": type_accuracies,\n",
    "        \"results\": results\n",
    "    }, f, ensure_ascii=False, indent=2)\n",
    "\n",
    "print(f\"预测结果已保存到 {output_file}\")"
   ]
  }
 ],
 "metadata": {
  "kernelspec": {
   "display_name": "nlp2",
   "language": "python",
   "name": "python3"
  },
  "language_info": {
   "codemirror_mode": {
    "name": "ipython",
    "version": 3
   },
   "file_extension": ".py",
   "mimetype": "text/x-python",
   "name": "python",
   "nbconvert_exporter": "python",
   "pygments_lexer": "ipython3",
   "version": "3.9.21"
  }
 },
 "nbformat": 4,
 "nbformat_minor": 2
}
